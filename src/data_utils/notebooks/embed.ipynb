{
 "cells": [
  {
   "cell_type": "code",
   "execution_count": 1,
   "metadata": {},
   "outputs": [],
   "source": [
    "%load_ext autoreload\n",
    "%autoreload 2"
   ]
  },
  {
   "cell_type": "code",
   "execution_count": 2,
   "metadata": {},
   "outputs": [],
   "source": [
    "import pandas as pd\n",
    "import matplotlib.pyplot as plt\n",
    "import seaborn as sns\n",
    "import numpy as np\n",
    "from pathlib import Path\n",
    "from pydicom import dcmread\n",
    "from skimage.io import imsave\n",
    "from skimage.transform import resize\n",
    "from tqdm import tqdm\n",
    "import ast, sys\n",
    "sys.path.append(\"/home/moritz/repositories/med_leak/\")\n",
    "np.random.seed(420)\n",
    "tqdm.pandas()"
   ]
  },
  {
   "cell_type": "code",
   "execution_count": 3,
   "metadata": {},
   "outputs": [],
   "source": [
    "def dataframe_stats(df):\n",
    "    n_patients = df.empi_anon.nunique()\n",
    "    n_exams = df.acc_anon.nunique()\n",
    "    print(f\"Patients: {n_patients}\")\n",
    "    print(f\"Exams: {n_exams}\")\n",
    "    if \"anon_dicom_path\" in df.columns:\n",
    "        n_images = df.anon_dicom_path.nunique()\n",
    "        print(f\"Images: {n_images}\")"
   ]
  },
  {
   "cell_type": "code",
   "execution_count": 4,
   "metadata": {},
   "outputs": [
    {
     "name": "stderr",
     "output_type": "stream",
     "text": [
      "/tmp/ipykernel_370103/1328532102.py:3: DtypeWarning: Columns (20) have mixed types. Specify dtype option on import or set low_memory=False.\n",
      "  clinical_df = pd.read_csv(base_dir / \"EMBED_OpenData_clinical_reduced.csv\")\n",
      "/tmp/ipykernel_370103/1328532102.py:4: DtypeWarning: Columns (27,28) have mixed types. Specify dtype option on import or set low_memory=False.\n",
      "  meta_df = pd.read_csv(base_dir / \"EMBED_OpenData_metadata_reduced.csv\")\n"
     ]
    },
    {
     "data": {
      "text/plain": [
       "(81776, 480323)"
      ]
     },
     "execution_count": 4,
     "metadata": {},
     "output_type": "execute_result"
    }
   ],
   "source": [
    "base_dir = Path(\"/home/moritz/data_massive/embed_small/tables\")\n",
    "data_dir = Path(\"/home/moritz/data_massive/embed_small/images\")\n",
    "clinical_df = pd.read_csv(base_dir / \"EMBED_OpenData_clinical_reduced.csv\")\n",
    "meta_df = pd.read_csv(base_dir / \"EMBED_OpenData_metadata_reduced.csv\")\n",
    "len(clinical_df), len(meta_df)"
   ]
  },
  {
   "cell_type": "code",
   "execution_count": 5,
   "metadata": {},
   "outputs": [
    {
     "name": "stdout",
     "output_type": "stream",
     "text": [
      "Patients: 23253\n",
      "Exams: 72770\n"
     ]
    }
   ],
   "source": [
    "dataframe_stats(clinical_df)"
   ]
  },
  {
   "cell_type": "code",
   "execution_count": 6,
   "metadata": {},
   "outputs": [],
   "source": [
    "# standardize racial groups\n",
    "clinical_df = clinical_df.replace(\"African American  or Black\", \"Black\")\n",
    "clinical_df = clinical_df.replace(\"Caucasian or White\", \"White\")\n",
    "clinical_df = clinical_df.replace(\"Native Hawaiian or Other Pacific Islander\", \"Other/Unknown\")\n",
    "clinical_df = clinical_df.replace(\"Unknown, Unavailable or Unreported\", \"Other/Unknown\")\n",
    "clinical_df = clinical_df.replace(\"Multiple\", \"Other/Unknown\")\n",
    "clinical_df = clinical_df.replace(\"American Indian or Alaskan Native\", \"Other/Unknown\")\n",
    "clinical_df = clinical_df.replace(\"Not Recorded\", \"Other/Unknown\")\n",
    "clinical_df = clinical_df.replace(\"Patient Declines\", \"Other/Unknown\")\n",
    "\n",
    "# helper column to idenftify screening exams\n",
    "clinical_df['screen_exam'] = clinical_df.desc.str.contains('screen', case=False)"
   ]
  },
  {
   "cell_type": "code",
   "execution_count": 7,
   "metadata": {},
   "outputs": [
    {
     "name": "stdout",
     "output_type": "stream",
     "text": [
      "Patients: 20460\n",
      "Exams: 55956\n"
     ]
    }
   ],
   "source": [
    "clinical_df = clinical_df[clinical_df['screen_exam'] == True]\n",
    "dataframe_stats(clinical_df)"
   ]
  },
  {
   "cell_type": "code",
   "execution_count": 8,
   "metadata": {},
   "outputs": [
    {
     "data": {
      "text/plain": [
       "(tissueden\n",
       " 2.0    24955\n",
       " 3.0    24724\n",
       " 1.0     6067\n",
       " 4.0     2977\n",
       " 5.0        6\n",
       " Name: count, dtype: int64,\n",
       " asses\n",
       " N    41779\n",
       " A    10845\n",
       " B     6224\n",
       " S       22\n",
       " K        9\n",
       " P        7\n",
       " M        1\n",
       " X        1\n",
       " Name: count, dtype: int64)"
      ]
     },
     "execution_count": 8,
     "metadata": {},
     "output_type": "execute_result"
    }
   ],
   "source": [
    "clinical_df.tissueden.value_counts(), clinical_df.asses.value_counts()"
   ]
  },
  {
   "cell_type": "code",
   "execution_count": 9,
   "metadata": {},
   "outputs": [
    {
     "name": "stderr",
     "output_type": "stream",
     "text": [
      "/tmp/ipykernel_370103/1434390439.py:12: UserWarning: Boolean Series key will be reindexed to match DataFrame index.\n",
      "  data_df.drop(data_df[invalid_gender].index, inplace=True)\n"
     ]
    },
    {
     "name": "stdout",
     "output_type": "stream",
     "text": [
      "Patients: 19447\n",
      "Exams: 53963\n",
      "Images: 361153\n"
     ]
    }
   ],
   "source": [
    "data_df = pd.merge(clinical_df, meta_df, how='left', on=['acc_anon', 'empi_anon'])\n",
    "data_df.drop_duplicates(subset=\"anon_dicom_path\", inplace=True) # drop duplicates\n",
    "data_df.rename(columns={\"age_at_study\": \"age\"}, inplace=True)\n",
    "data_df.rename(columns={\"PatientSex\": \"Sex\"}, inplace=True)\n",
    "# exclude patients with missing race info\n",
    "data_df = data_df[~data_df.RACE_DESC.isna()]\n",
    "data_df = data_df.loc[data_df.ViewPosition.isin([\"MLO\", \"CC\"])] # only MLO or CC view\n",
    "# only female patients with valid BIRADS density\n",
    "invalid_densities = data_df.tissueden==5.0\n",
    "invalid_gender = data_df.GENDER_DESC == \"Male\"\n",
    "data_df.drop(data_df[invalid_densities].index, inplace=True)\n",
    "data_df.drop(data_df[invalid_gender].index, inplace=True)\n",
    "data_df = data_df.reset_index(drop=True)\n",
    "dataframe_stats(data_df)"
   ]
  },
  {
   "cell_type": "code",
   "execution_count": 10,
   "metadata": {},
   "outputs": [
    {
     "data": {
      "text/plain": [
       "(tissueden\n",
       " 2.0    153523\n",
       " 3.0    146108\n",
       " 1.0     41899\n",
       " 4.0     18629\n",
       " Name: count, dtype: int64,\n",
       " GENDER_DESC\n",
       " Female    361153\n",
       " Name: count, dtype: int64)"
      ]
     },
     "execution_count": 10,
     "metadata": {},
     "output_type": "execute_result"
    }
   ],
   "source": [
    "data_df.tissueden.value_counts(), data_df.GENDER_DESC.value_counts()"
   ]
  },
  {
   "cell_type": "code",
   "execution_count": 11,
   "metadata": {},
   "outputs": [
    {
     "name": "stderr",
     "output_type": "stream",
     "text": [
      "/tmp/ipykernel_370103/1522402770.py:7: FutureWarning: Setting an item of incompatible dtype is deprecated and will raise in a future error of pandas. Value '[3.0 3.0 3.0 ... 2.0 2.0 2.0]' has dtype incompatible with float64, please explicitly cast to a compatible dtype first.\n",
      "  data_df.loc[:, \"tissueden\"] = data_df.loc[:, \"tissueden\"].replace(1.0, \"BIRADS A\")\n"
     ]
    }
   ],
   "source": [
    "# BI-RADS Density LABELS\n",
    "data_df[\"BIRADS_DENSITY\"] = data_df[\"tissueden\"]\n",
    "data_df.loc[:, \"BIRADS_DENSITY\"] = data_df.loc[:, \"BIRADS_DENSITY\"].replace(1.0, 0)\n",
    "data_df.loc[:, \"BIRADS_DENSITY\"] = data_df.loc[:, \"BIRADS_DENSITY\"].replace(2.0, 1)\n",
    "data_df.loc[:, \"BIRADS_DENSITY\"] = data_df.loc[:, \"BIRADS_DENSITY\"].replace(3.0, 2)\n",
    "data_df.loc[:, \"BIRADS_DENSITY\"] = data_df.loc[:, \"BIRADS_DENSITY\"].replace(4.0, 3)\n",
    "data_df.loc[:, \"tissueden\"] = data_df.loc[:, \"tissueden\"].replace(1.0, \"BIRADS A\")\n",
    "data_df.loc[:, \"tissueden\"] = data_df.loc[:, \"tissueden\"].replace(2.0, \"BIRADS B\")\n",
    "data_df.loc[:, \"tissueden\"] = data_df.loc[:, \"tissueden\"].replace(3.0, \"BIRADS C\")\n",
    "data_df.loc[:, \"tissueden\"] = data_df.loc[:, \"tissueden\"].replace(4.0, \"BIRADS D\")"
   ]
  },
  {
   "cell_type": "code",
   "execution_count": 12,
   "metadata": {},
   "outputs": [
    {
     "name": "stdout",
     "output_type": "stream",
     "text": [
      "BIRADS_DENSITY\n",
      "1.0    153523\n",
      "2.0    146108\n",
      "0.0     41899\n",
      "3.0     18629\n",
      "NaN       994\n",
      "Name: count, dtype: int64\n"
     ]
    }
   ],
   "source": [
    "print(data_df[\"BIRADS_DENSITY\"].value_counts(dropna=False))\n",
    "nan_vals = data_df.BIRADS_DENSITY.isna()\n",
    "data_df = data_df.loc[~nan_vals]"
   ]
  },
  {
   "cell_type": "code",
   "execution_count": 13,
   "metadata": {},
   "outputs": [
    {
     "data": {
      "text/plain": [
       "ViewPosition\n",
       "MLO    189134\n",
       "CC     171025\n",
       "Name: count, dtype: int64"
      ]
     },
     "execution_count": 13,
     "metadata": {},
     "output_type": "execute_result"
    }
   ],
   "source": [
    "data_df[\"ViewPosition\"].value_counts()"
   ]
  },
  {
   "cell_type": "code",
   "execution_count": 14,
   "metadata": {},
   "outputs": [
    {
     "data": {
      "text/plain": [
       "'360159 images from 19429 patients and 53817 exams.'"
      ]
     },
     "execution_count": 14,
     "metadata": {},
     "output_type": "execute_result"
    }
   ],
   "source": [
    "f\"{len(data_df)} images from {data_df.empi_anon.nunique()} patients and {data_df.acc_anon.nunique()} exams.\""
   ]
  },
  {
   "cell_type": "markdown",
   "metadata": {},
   "source": [
    "### Train-test split"
   ]
  },
  {
   "cell_type": "code",
   "execution_count": 15,
   "metadata": {},
   "outputs": [
    {
     "data": {
      "text/plain": [
       "(split\n",
       " train    351277\n",
       " test       8882\n",
       " Name: count, dtype: int64,\n",
       " split\n",
       " train    351277\n",
       " test       8882\n",
       " Name: count, dtype: int64)"
      ]
     },
     "execution_count": 15,
     "metadata": {},
     "output_type": "execute_result"
    }
   ],
   "source": [
    "n_test_patients = 500\n",
    "test_patients = np.random.choice(data_df.empi_anon.unique(), n_test_patients, replace=False)\n",
    "data_df['split'] = \"train\"\n",
    "data_df.loc[data_df.empi_anon.isin(test_patients), 'split'] = \"test\"\n",
    "data_df['split'] = \"train\"\n",
    "data_df.loc[data_df.empi_anon.isin(test_patients), 'split'] = \"test\"\n",
    "data_df['split'].value_counts(normalize=False), data_df['split'].value_counts(normalize=False)"
   ]
  },
  {
   "cell_type": "code",
   "execution_count": 16,
   "metadata": {},
   "outputs": [
    {
     "data": {
      "text/plain": [
       "RACE_DESC\n",
       "Black            162012\n",
       "White            152965\n",
       "Other/Unknown     24363\n",
       "Asian             20819\n",
       "Name: count, dtype: int64"
      ]
     },
     "execution_count": 16,
     "metadata": {},
     "output_type": "execute_result"
    }
   ],
   "source": [
    "data_df.RACE_DESC.value_counts(normalize=False)"
   ]
  },
  {
   "cell_type": "code",
   "execution_count": 22,
   "metadata": {},
   "outputs": [
    {
     "data": {
      "text/plain": [
       "['Unnamed: 0_x',\n",
       " 'empi_anon',\n",
       " 'acc_anon',\n",
       " 'desc',\n",
       " 'numfind',\n",
       " 'side',\n",
       " 'asses',\n",
       " 'tissueden',\n",
       " 'bside',\n",
       " 'GENDER_DESC',\n",
       " 'RACE_DESC',\n",
       " 'ETHNIC_GROUP_DESC',\n",
       " 'MARITAL_STATUS_DESC',\n",
       " 'age',\n",
       " 'study_date_anon_x',\n",
       " 'procdate_anon',\n",
       " 'cohort_num_x',\n",
       " 'path_severity',\n",
       " 'total_L_find',\n",
       " 'total_R_find',\n",
       " 'first_3_zip',\n",
       " 'screen_exam',\n",
       " 'Unnamed: 0_y',\n",
       " 'cohort_num_y',\n",
       " 'study_date_anon_y',\n",
       " 'StudyDescription',\n",
       " 'SeriesDescription',\n",
       " 'FinalImageType',\n",
       " 'ImageLateralityFinal',\n",
       " 'ViewPosition',\n",
       " 'spot_mag',\n",
       " 'anon_dicom_path',\n",
       " 'num_roi',\n",
       " 'ROI_coords',\n",
       " 'SRC_DST',\n",
       " 'match_level',\n",
       " 'Manufacturer',\n",
       " 'ManufacturerModelName',\n",
       " 'Sex',\n",
       " 'ProtocolName',\n",
       " 'SeriesNumber',\n",
       " 'SeriesTime',\n",
       " 'StudyID',\n",
       " 'WindowCenter',\n",
       " 'WindowWidth',\n",
       " 'has_pix_array',\n",
       " 'category',\n",
       " 'VOILUTFunction',\n",
       " 'WindowCenterWidthExplanation',\n",
       " 'preprocessed_img_exists',\n",
       " 'BIRADS_DENSITY',\n",
       " 'split']"
      ]
     },
     "execution_count": 22,
     "metadata": {},
     "output_type": "execute_result"
    }
   ],
   "source": [
    "list(data_df.columns)"
   ]
  },
  {
   "cell_type": "code",
   "execution_count": 18,
   "metadata": {},
   "outputs": [],
   "source": [
    "#data_df.to_csv(\"/home/moritz/repositories/med_leak/data/csv/embed.csv\")"
   ]
  },
  {
   "cell_type": "markdown",
   "metadata": {},
   "source": [
    "### Cohort Table"
   ]
  },
  {
   "cell_type": "code",
   "execution_count": 19,
   "metadata": {},
   "outputs": [],
   "source": [
    "from utils import cohort_table"
   ]
  },
  {
   "cell_type": "code",
   "execution_count": 24,
   "metadata": {},
   "outputs": [
    {
     "name": "stdout",
     "output_type": "stream",
     "text": [
      "OrderedDict([('Variable', ['Patients', 'Records', 'Median age (SD)']), ('All', ['19429', '360159', '60 (12)']), ('Asian', ['1299', '20819', '53 (11)']), ('Black', ['8120', '162012', '59 (11)']), ('White', ['7896', '152965', '62 (12)']), ('Other/Unknown', ['2114', '24363', '53 (10)'])])\n"
     ]
    },
    {
     "data": {
      "text/html": [
       "<div>\n",
       "<style scoped>\n",
       "    .dataframe tbody tr th:only-of-type {\n",
       "        vertical-align: middle;\n",
       "    }\n",
       "\n",
       "    .dataframe tbody tr th {\n",
       "        vertical-align: top;\n",
       "    }\n",
       "\n",
       "    .dataframe thead th {\n",
       "        text-align: right;\n",
       "    }\n",
       "</style>\n",
       "<table border=\"1\" class=\"dataframe\">\n",
       "  <thead>\n",
       "    <tr style=\"text-align: right;\">\n",
       "      <th></th>\n",
       "      <th>Variable</th>\n",
       "      <th>All</th>\n",
       "      <th>Asian</th>\n",
       "      <th>Black</th>\n",
       "      <th>White</th>\n",
       "      <th>Other/Unknown</th>\n",
       "    </tr>\n",
       "  </thead>\n",
       "  <tbody>\n",
       "    <tr>\n",
       "      <th>0</th>\n",
       "      <td>Patients</td>\n",
       "      <td>19429</td>\n",
       "      <td>1299</td>\n",
       "      <td>8120</td>\n",
       "      <td>7896</td>\n",
       "      <td>2114</td>\n",
       "    </tr>\n",
       "    <tr>\n",
       "      <th>1</th>\n",
       "      <td>Records</td>\n",
       "      <td>360159</td>\n",
       "      <td>20819</td>\n",
       "      <td>162012</td>\n",
       "      <td>152965</td>\n",
       "      <td>24363</td>\n",
       "    </tr>\n",
       "    <tr>\n",
       "      <th>2</th>\n",
       "      <td>Median age (SD)</td>\n",
       "      <td>60 (12)</td>\n",
       "      <td>53 (11)</td>\n",
       "      <td>59 (11)</td>\n",
       "      <td>62 (12)</td>\n",
       "      <td>53 (10)</td>\n",
       "    </tr>\n",
       "    <tr>\n",
       "      <th>3</th>\n",
       "      <td>F (\\%)</td>\n",
       "      <td>360159 (100.0)</td>\n",
       "      <td>20819 (100.0)</td>\n",
       "      <td>162012 (100.0)</td>\n",
       "      <td>152965 (100.0)</td>\n",
       "      <td>24363 (100.0)</td>\n",
       "    </tr>\n",
       "    <tr>\n",
       "      <th>4</th>\n",
       "      <td>BIRADS C (\\%)</td>\n",
       "      <td>146108 (40.6)</td>\n",
       "      <td>12247 (58.8)</td>\n",
       "      <td>54524 (33.7)</td>\n",
       "      <td>67658 (44.2)</td>\n",
       "      <td>11679 (47.9)</td>\n",
       "    </tr>\n",
       "    <tr>\n",
       "      <th>5</th>\n",
       "      <td>BIRADS D (\\%)</td>\n",
       "      <td>18629 (5.2)</td>\n",
       "      <td>2891 (13.9)</td>\n",
       "      <td>6069 (3.7)</td>\n",
       "      <td>8161 (5.3)</td>\n",
       "      <td>1508 (6.2)</td>\n",
       "    </tr>\n",
       "    <tr>\n",
       "      <th>6</th>\n",
       "      <td>BIRADS B (\\%)</td>\n",
       "      <td>153523 (42.6)</td>\n",
       "      <td>5207 (25.0)</td>\n",
       "      <td>75606 (46.7)</td>\n",
       "      <td>63246 (41.3)</td>\n",
       "      <td>9464 (38.8)</td>\n",
       "    </tr>\n",
       "    <tr>\n",
       "      <th>7</th>\n",
       "      <td>BIRADS A (\\%)</td>\n",
       "      <td>41899 (11.6)</td>\n",
       "      <td>474 (2.3)</td>\n",
       "      <td>25813 (15.9)</td>\n",
       "      <td>13900 (9.1)</td>\n",
       "      <td>1712 (7.0)</td>\n",
       "    </tr>\n",
       "    <tr>\n",
       "      <th>8</th>\n",
       "      <td>N (\\%)</td>\n",
       "      <td>271205 (75.3)</td>\n",
       "      <td>15669 (75.3)</td>\n",
       "      <td>123004 (75.9)</td>\n",
       "      <td>115426 (75.5)</td>\n",
       "      <td>17106 (70.2)</td>\n",
       "    </tr>\n",
       "    <tr>\n",
       "      <th>9</th>\n",
       "      <td>A (\\%)</td>\n",
       "      <td>54743 (15.2)</td>\n",
       "      <td>3809 (18.3)</td>\n",
       "      <td>24423 (15.1)</td>\n",
       "      <td>20898 (13.7)</td>\n",
       "      <td>5613 (23.0)</td>\n",
       "    </tr>\n",
       "    <tr>\n",
       "      <th>10</th>\n",
       "      <td>B (\\%)</td>\n",
       "      <td>34046 (9.5)</td>\n",
       "      <td>1335 (6.4)</td>\n",
       "      <td>14540 (9.0)</td>\n",
       "      <td>16564 (10.8)</td>\n",
       "      <td>1607 (6.6)</td>\n",
       "    </tr>\n",
       "    <tr>\n",
       "      <th>11</th>\n",
       "      <td>S (\\%)</td>\n",
       "      <td>95 (0.0)</td>\n",
       "      <td>0 (0.0)</td>\n",
       "      <td>33 (0.0)</td>\n",
       "      <td>54 (0.0)</td>\n",
       "      <td>8 (0.0)</td>\n",
       "    </tr>\n",
       "    <tr>\n",
       "      <th>12</th>\n",
       "      <td>P (\\%)</td>\n",
       "      <td>19 (0.0)</td>\n",
       "      <td>6 (0.0)</td>\n",
       "      <td>7 (0.0)</td>\n",
       "      <td>6 (0.0)</td>\n",
       "      <td>0 (0.0)</td>\n",
       "    </tr>\n",
       "    <tr>\n",
       "      <th>13</th>\n",
       "      <td>K (\\%)</td>\n",
       "      <td>42 (0.0)</td>\n",
       "      <td>0 (0.0)</td>\n",
       "      <td>5 (0.0)</td>\n",
       "      <td>8 (0.0)</td>\n",
       "      <td>29 (0.1)</td>\n",
       "    </tr>\n",
       "    <tr>\n",
       "      <th>14</th>\n",
       "      <td>M (\\%)</td>\n",
       "      <td>9 (0.0)</td>\n",
       "      <td>0 (0.0)</td>\n",
       "      <td>0 (0.0)</td>\n",
       "      <td>9 (0.0)</td>\n",
       "      <td>0 (0.0)</td>\n",
       "    </tr>\n",
       "    <tr>\n",
       "      <th>15</th>\n",
       "      <td>CC (\\%)</td>\n",
       "      <td>171025 (47.5)</td>\n",
       "      <td>10047 (48.3)</td>\n",
       "      <td>76550 (47.2)</td>\n",
       "      <td>72891 (47.7)</td>\n",
       "      <td>11537 (47.4)</td>\n",
       "    </tr>\n",
       "    <tr>\n",
       "      <th>16</th>\n",
       "      <td>MLO (\\%)</td>\n",
       "      <td>189134 (52.5)</td>\n",
       "      <td>10772 (51.7)</td>\n",
       "      <td>85462 (52.8)</td>\n",
       "      <td>80074 (52.3)</td>\n",
       "      <td>12826 (52.6)</td>\n",
       "    </tr>\n",
       "    <tr>\n",
       "      <th>17</th>\n",
       "      <td>2D (\\%)</td>\n",
       "      <td>256730 (71.3)</td>\n",
       "      <td>14075 (67.6)</td>\n",
       "      <td>112710 (69.6)</td>\n",
       "      <td>111813 (73.1)</td>\n",
       "      <td>18132 (74.4)</td>\n",
       "    </tr>\n",
       "    <tr>\n",
       "      <th>18</th>\n",
       "      <td>cview (\\%)</td>\n",
       "      <td>103429 (28.7)</td>\n",
       "      <td>6744 (32.4)</td>\n",
       "      <td>49302 (30.4)</td>\n",
       "      <td>41152 (26.9)</td>\n",
       "      <td>6231 (25.6)</td>\n",
       "    </tr>\n",
       "  </tbody>\n",
       "</table>\n",
       "</div>"
      ],
      "text/plain": [
       "           Variable             All          Asian           Black  \\\n",
       "0          Patients           19429           1299            8120   \n",
       "1           Records          360159          20819          162012   \n",
       "2   Median age (SD)         60 (12)        53 (11)         59 (11)   \n",
       "3            F (\\%)  360159 (100.0)  20819 (100.0)  162012 (100.0)   \n",
       "4     BIRADS C (\\%)   146108 (40.6)   12247 (58.8)    54524 (33.7)   \n",
       "5     BIRADS D (\\%)     18629 (5.2)    2891 (13.9)      6069 (3.7)   \n",
       "6     BIRADS B (\\%)   153523 (42.6)    5207 (25.0)    75606 (46.7)   \n",
       "7     BIRADS A (\\%)    41899 (11.6)      474 (2.3)    25813 (15.9)   \n",
       "8            N (\\%)   271205 (75.3)   15669 (75.3)   123004 (75.9)   \n",
       "9            A (\\%)    54743 (15.2)    3809 (18.3)    24423 (15.1)   \n",
       "10           B (\\%)     34046 (9.5)     1335 (6.4)     14540 (9.0)   \n",
       "11           S (\\%)        95 (0.0)        0 (0.0)        33 (0.0)   \n",
       "12           P (\\%)        19 (0.0)        6 (0.0)         7 (0.0)   \n",
       "13           K (\\%)        42 (0.0)        0 (0.0)         5 (0.0)   \n",
       "14           M (\\%)         9 (0.0)        0 (0.0)         0 (0.0)   \n",
       "15          CC (\\%)   171025 (47.5)   10047 (48.3)    76550 (47.2)   \n",
       "16         MLO (\\%)   189134 (52.5)   10772 (51.7)    85462 (52.8)   \n",
       "17          2D (\\%)   256730 (71.3)   14075 (67.6)   112710 (69.6)   \n",
       "18       cview (\\%)   103429 (28.7)    6744 (32.4)    49302 (30.4)   \n",
       "\n",
       "             White  Other/Unknown  \n",
       "0             7896           2114  \n",
       "1           152965          24363  \n",
       "2          62 (12)        53 (10)  \n",
       "3   152965 (100.0)  24363 (100.0)  \n",
       "4     67658 (44.2)   11679 (47.9)  \n",
       "5       8161 (5.3)     1508 (6.2)  \n",
       "6     63246 (41.3)    9464 (38.8)  \n",
       "7      13900 (9.1)     1712 (7.0)  \n",
       "8    115426 (75.5)   17106 (70.2)  \n",
       "9     20898 (13.7)    5613 (23.0)  \n",
       "10    16564 (10.8)     1607 (6.6)  \n",
       "11        54 (0.0)        8 (0.0)  \n",
       "12         6 (0.0)        0 (0.0)  \n",
       "13         8 (0.0)       29 (0.1)  \n",
       "14         9 (0.0)        0 (0.0)  \n",
       "15    72891 (47.7)   11537 (47.4)  \n",
       "16    80074 (52.3)   12826 (52.6)  \n",
       "17   111813 (73.1)   18132 (74.4)  \n",
       "18    41152 (26.9)    6231 (25.6)  "
      ]
     },
     "execution_count": 24,
     "metadata": {},
     "output_type": "execute_result"
    }
   ],
   "source": [
    "cohort_df = cohort_table(\n",
    "    data_df,\n",
    "    strat_var=\"RACE_DESC\",\n",
    "    strat_var_vals=[\"Asian\", \"Black\", \"White\", \"Other/Unknown\"],\n",
    "    other_vars=[\"Sex\", \"tissueden\", \"asses\", \"ViewPosition\", \"FinalImageType\"],\n",
    "    patient_id_col=\"empi_anon\",\n",
    ")\n",
    "cohort_df"
   ]
  },
  {
   "cell_type": "code",
   "execution_count": 26,
   "metadata": {},
   "outputs": [],
   "source": [
    "cohort_df.to_latex(\"./tables/embed.tex\", index=False)"
   ]
  },
  {
   "cell_type": "code",
   "execution_count": null,
   "metadata": {},
   "outputs": [],
   "source": []
  }
 ],
 "metadata": {
  "kernelspec": {
   "display_name": "fair_leak",
   "language": "python",
   "name": "python3"
  },
  "language_info": {
   "codemirror_mode": {
    "name": "ipython",
    "version": 3
   },
   "file_extension": ".py",
   "mimetype": "text/x-python",
   "name": "python",
   "nbconvert_exporter": "python",
   "pygments_lexer": "ipython3",
   "version": "3.9.18"
  }
 },
 "nbformat": 4,
 "nbformat_minor": 4
}
